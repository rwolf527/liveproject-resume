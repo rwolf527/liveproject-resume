{
 "cells": [
  {
   "cell_type": "code",
   "execution_count": 1,
   "metadata": {},
   "outputs": [],
   "source": [
    "from bs4 import BeautifulSoup as bs\n",
    "import os\n",
    "import pathlib\n",
    "import pandas as pd"
   ]
  },
  {
   "cell_type": "markdown",
   "metadata": {},
   "source": [
    "## Define Helper Functions for Extracting Title and Skills ##"
   ]
  },
  {
   "cell_type": "code",
   "execution_count": 2,
   "metadata": {},
   "outputs": [],
   "source": [
    "def html_files_to_list(path):\n",
    "    \"\"\"\n",
    "        returns a list of tuples containing the file_name and the contents of the file as a string\n",
    "    \"\"\"\n",
    "    with os.scandir(path) as my_dir:\n",
    "        return [(entry.name, bs(pathlib.Path(entry.path).read_text())) for entry in my_dir if entry.is_file and entry.name.endswith('html')]\n"
   ]
  },
  {
   "cell_type": "code",
   "execution_count": 3,
   "metadata": {},
   "outputs": [],
   "source": [
    "def get_title(bs_object):\n",
    "    \"\"\"\n",
    "        returns the text of the title for the passed beautiful soup object\n",
    "    \"\"\"\n",
    "    my_title = bs_object.find('title')\n",
    "    if my_title:\n",
    "        return my_title.text.lower()\n",
    "    return None"
   ]
  },
  {
   "cell_type": "code",
   "execution_count": 4,
   "metadata": {},
   "outputs": [],
   "source": [
    "def get_skills(bs_object):\n",
    "    \"\"\"\n",
    "        returns comma separated list of skills\n",
    "    \"\"\"\n",
    "    my_list_items = [li.text.strip() for li in bs_object.find_all('li')]\n",
    "#     return ','.join(my_list_items)\n",
    "    return my_list_items"
   ]
  },
  {
   "cell_type": "markdown",
   "metadata": {},
   "source": [
    "## Process all of the files in the data directory and return a tuple for each containing the original file path and the Beautiful Soup Object created from the contents ##\n",
    "\n",
    "This will simply creating a DataFrame later."
   ]
  },
  {
   "cell_type": "code",
   "execution_count": 5,
   "metadata": {},
   "outputs": [],
   "source": [
    "html_data = html_files_to_list(os.path.join('data', 'html_job_postings'))"
   ]
  },
  {
   "cell_type": "markdown",
   "metadata": {},
   "source": [
    "## Create a Dataframe from the Html files - initially with just 2 Columns - FilePath and Contents ##"
   ]
  },
  {
   "cell_type": "code",
   "execution_count": 6,
   "metadata": {},
   "outputs": [],
   "source": [
    "my_df = pd.DataFrame(html_data, columns=['FilePath', 'Contents'])"
   ]
  },
  {
   "cell_type": "markdown",
   "metadata": {},
   "source": [
    "## Remove Duplicates from the DataFrame. ##"
   ]
  },
  {
   "cell_type": "code",
   "execution_count": 7,
   "metadata": {},
   "outputs": [
    {
     "name": "stdout",
     "output_type": "stream",
     "text": [
      "Before drop duplicates, Shape: (1337, 2)\n",
      "********************************************************************************\n",
      "After drop duplicates, Shape: (1329, 2)\n"
     ]
    }
   ],
   "source": [
    "# Remove duplicate entries\n",
    "print(f'Before drop duplicates, Shape: {my_df.shape}')\n",
    "print('*' * 80)\n",
    "my_df.drop_duplicates(subset='Contents', inplace=True)\n",
    "print(f'After drop duplicates, Shape: {my_df.shape}')"
   ]
  },
  {
   "cell_type": "markdown",
   "metadata": {},
   "source": [
    "## Now use our helpfer functions to create columns Title and Skills ##"
   ]
  },
  {
   "cell_type": "code",
   "execution_count": 8,
   "metadata": {},
   "outputs": [],
   "source": [
    "my_df['Title'] = my_df['Contents'].apply(lambda x: get_title(x))\n",
    "my_df['Skills'] = my_df['Contents'].apply(lambda x: get_skills(x))"
   ]
  },
  {
   "cell_type": "markdown",
   "metadata": {},
   "source": [
    "## Optional Step - Filter out Resumes that don't appear to be for Data Scientist ##"
   ]
  },
  {
   "cell_type": "code",
   "execution_count": 9,
   "metadata": {},
   "outputs": [],
   "source": [
    "# Filter out things that are probably NOT what we're interest in\n",
    "my_df = my_df[(my_df['Title'].str.contains('data')) & (my_df['Title'].str.contains('scien'))]"
   ]
  },
  {
   "cell_type": "code",
   "execution_count": 10,
   "metadata": {},
   "outputs": [],
   "source": [
    "my_df['Title_1'] = my_df['Title'].apply(lambda x: (x.split('-'))[0] )\n",
    "my_df['Title_2'] = my_df['Title'].apply(lambda x: (x.split('-'))[1] if len(x.split('-')) > 1 else 'N/A') \n",
    "my_df['Title_3'] = my_df['Title'].apply(lambda x: (x.split('-'))[2] if len(x.split('-')) > 2 else 'N/A') \n"
   ]
  },
  {
   "cell_type": "code",
   "execution_count": 11,
   "metadata": {},
   "outputs": [
    {
     "data": {
      "text/html": [
       "<div>\n",
       "<style scoped>\n",
       "    .dataframe tbody tr th:only-of-type {\n",
       "        vertical-align: middle;\n",
       "    }\n",
       "\n",
       "    .dataframe tbody tr th {\n",
       "        vertical-align: top;\n",
       "    }\n",
       "\n",
       "    .dataframe thead th {\n",
       "        text-align: right;\n",
       "    }\n",
       "</style>\n",
       "<table border=\"1\" class=\"dataframe\">\n",
       "  <thead>\n",
       "    <tr style=\"text-align: right;\">\n",
       "      <th></th>\n",
       "      <th>Title_1</th>\n",
       "      <th>Title_2</th>\n",
       "      <th>Title_3</th>\n",
       "      <th>Skills</th>\n",
       "    </tr>\n",
       "  </thead>\n",
       "  <tbody>\n",
       "    <tr>\n",
       "      <th>1</th>\n",
       "      <td>data scientist</td>\n",
       "      <td>mountain view, ca</td>\n",
       "      <td>N/A</td>\n",
       "      <td>[Help senior members of the team to explore, d...</td>\n",
       "    </tr>\n",
       "    <tr>\n",
       "      <th>2</th>\n",
       "      <td>data scientist</td>\n",
       "      <td>seattle, wa</td>\n",
       "      <td>N/A</td>\n",
       "      <td>[A Bachelor or Masters Degree in a highly quan...</td>\n",
       "    </tr>\n",
       "    <tr>\n",
       "      <th>5</th>\n",
       "      <td>junior data scientist</td>\n",
       "      <td>college park, md 20740</td>\n",
       "      <td>N/A</td>\n",
       "      <td>[Degree: Bachelor’s degree in business analyti...</td>\n",
       "    </tr>\n",
       "    <tr>\n",
       "      <th>6</th>\n",
       "      <td>data scientist</td>\n",
       "      <td>new york, ny</td>\n",
       "      <td>N/A</td>\n",
       "      <td>[Languages: Python, PySpark, SQL, Data Tools: ...</td>\n",
       "    </tr>\n",
       "    <tr>\n",
       "      <th>8</th>\n",
       "      <td>(entry</td>\n",
       "      <td>level) data scientist</td>\n",
       "      <td>chicago, il</td>\n",
       "      <td>[Be the go-to person for Data ingest and stora...</td>\n",
       "    </tr>\n",
       "  </tbody>\n",
       "</table>\n",
       "</div>"
      ],
      "text/plain": [
       "                  Title_1                  Title_2       Title_3  \\\n",
       "1         data scientist         mountain view, ca           N/A   \n",
       "2         data scientist               seattle, wa           N/A   \n",
       "5  junior data scientist    college park, md 20740           N/A   \n",
       "6         data scientist              new york, ny           N/A   \n",
       "8                  (entry   level) data scientist    chicago, il   \n",
       "\n",
       "                                              Skills  \n",
       "1  [Help senior members of the team to explore, d...  \n",
       "2  [A Bachelor or Masters Degree in a highly quan...  \n",
       "5  [Degree: Bachelor’s degree in business analyti...  \n",
       "6  [Languages: Python, PySpark, SQL, Data Tools: ...  \n",
       "8  [Be the go-to person for Data ingest and stora...  "
      ]
     },
     "execution_count": 11,
     "metadata": {},
     "output_type": "execute_result"
    }
   ],
   "source": [
    "my_df[['Title_1', 'Title_2', 'Title_3', 'Skills']].head()"
   ]
  },
  {
   "cell_type": "markdown",
   "metadata": {},
   "source": [
    "## Now save the Dataframe for later ##"
   ]
  },
  {
   "cell_type": "code",
   "execution_count": 12,
   "metadata": {},
   "outputs": [],
   "source": [
    "SAVE_FILE_NAME = \"resume_project_after_step_1.pickle\"\n",
    "my_df.to_pickle(SAVE_FILE_NAME)"
   ]
  },
  {
   "cell_type": "markdown",
   "metadata": {},
   "source": [
    "## Verify that we will be able to read back our saved Data Frame later . . . ##"
   ]
  },
  {
   "cell_type": "code",
   "execution_count": 13,
   "metadata": {},
   "outputs": [
    {
     "data": {
      "text/html": [
       "<div>\n",
       "<style scoped>\n",
       "    .dataframe tbody tr th:only-of-type {\n",
       "        vertical-align: middle;\n",
       "    }\n",
       "\n",
       "    .dataframe tbody tr th {\n",
       "        vertical-align: top;\n",
       "    }\n",
       "\n",
       "    .dataframe thead th {\n",
       "        text-align: right;\n",
       "    }\n",
       "</style>\n",
       "<table border=\"1\" class=\"dataframe\">\n",
       "  <thead>\n",
       "    <tr style=\"text-align: right;\">\n",
       "      <th></th>\n",
       "      <th>Title</th>\n",
       "      <th>Skills</th>\n",
       "    </tr>\n",
       "  </thead>\n",
       "  <tbody>\n",
       "    <tr>\n",
       "      <th>1</th>\n",
       "      <td>data scientist - mountain view, ca</td>\n",
       "      <td>[Help senior members of the team to explore, d...</td>\n",
       "    </tr>\n",
       "    <tr>\n",
       "      <th>2</th>\n",
       "      <td>data scientist - seattle, wa</td>\n",
       "      <td>[A Bachelor or Masters Degree in a highly quan...</td>\n",
       "    </tr>\n",
       "    <tr>\n",
       "      <th>5</th>\n",
       "      <td>junior data scientist - college park, md 20740</td>\n",
       "      <td>[Degree: Bachelor’s degree in business analyti...</td>\n",
       "    </tr>\n",
       "    <tr>\n",
       "      <th>6</th>\n",
       "      <td>data scientist - new york, ny</td>\n",
       "      <td>[Languages: Python, PySpark, SQL, Data Tools: ...</td>\n",
       "    </tr>\n",
       "    <tr>\n",
       "      <th>8</th>\n",
       "      <td>(entry-level) data scientist - chicago, il</td>\n",
       "      <td>[Be the go-to person for Data ingest and stora...</td>\n",
       "    </tr>\n",
       "  </tbody>\n",
       "</table>\n",
       "</div>"
      ],
      "text/plain": [
       "                                            Title  \\\n",
       "1              data scientist - mountain view, ca   \n",
       "2                    data scientist - seattle, wa   \n",
       "5  junior data scientist - college park, md 20740   \n",
       "6                   data scientist - new york, ny   \n",
       "8      (entry-level) data scientist - chicago, il   \n",
       "\n",
       "                                              Skills  \n",
       "1  [Help senior members of the team to explore, d...  \n",
       "2  [A Bachelor or Masters Degree in a highly quan...  \n",
       "5  [Degree: Bachelor’s degree in business analyti...  \n",
       "6  [Languages: Python, PySpark, SQL, Data Tools: ...  \n",
       "8  [Be the go-to person for Data ingest and stora...  "
      ]
     },
     "execution_count": 13,
     "metadata": {},
     "output_type": "execute_result"
    }
   ],
   "source": [
    "my_read_df = pd.read_pickle(SAVE_FILE_NAME)\n",
    "my_read_df[['Title', 'Skills']].head()"
   ]
  },
  {
   "cell_type": "code",
   "execution_count": null,
   "metadata": {},
   "outputs": [],
   "source": []
  }
 ],
 "metadata": {
  "kernelspec": {
   "display_name": "Python 3",
   "language": "python",
   "name": "python3"
  },
  "language_info": {
   "codemirror_mode": {
    "name": "ipython",
    "version": 3
   },
   "file_extension": ".py",
   "mimetype": "text/x-python",
   "name": "python",
   "nbconvert_exporter": "python",
   "pygments_lexer": "ipython3",
   "version": "3.8.0"
  }
 },
 "nbformat": 4,
 "nbformat_minor": 4
}
